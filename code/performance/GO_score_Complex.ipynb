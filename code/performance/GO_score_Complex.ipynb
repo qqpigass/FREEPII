{
 "cells": [
  {
   "cell_type": "code",
   "execution_count": 1,
   "id": "3f427a2f-13f2-46b8-8396-22a48389913c",
   "metadata": {},
   "outputs": [],
   "source": [
    "from Similarity_organize import *\n",
    "import pickle\n",
    "import os\n",
    "import re\n",
    "import pyreadr\n",
    "import pandas as pd\n",
    "import numpy as np\n",
    "import requests, sys\n",
    "from itertools import combinations\n",
    "import seaborn as sns\n",
    "from copy import deepcopy\n",
    "import matplotlib.pyplot as plt\n",
    "\n",
    "from goatools.semantic import TermCounts, get_info_content, common_parent_go_ids, min_branch_length, semantic_distance, semantic_similarity, deepest_common_ancestor\n",
    "from goatools.semantic import resnik_sim, lin_sim\n",
    "from goatools.associations import read_associations, dnld_assc\n",
    "from goatools.base import get_godag\n",
    "from goatools.obo_parser import GODag"
   ]
  },
  {
   "cell_type": "code",
   "execution_count": null,
   "id": "fa358c2a-8e1c-4c3a-a5f8-853d36f17c58",
   "metadata": {},
   "outputs": [],
   "source": []
  },
  {
   "cell_type": "markdown",
   "id": "88f11e79-4fb8-4b9f-93aa-103edf0c780d",
   "metadata": {},
   "source": [
    "## Load data"
   ]
  },
  {
   "cell_type": "code",
   "execution_count": 1,
   "id": "67978d76-f15d-49ab-a634-2b0e579b0013",
   "metadata": {},
   "outputs": [],
   "source": [
    "#### Setting\n",
    "exp_name = 'PXD002892'\n",
    "exp_path = ['FREEPII_github/code/FREEPII/Cluster/' + i for i in os.listdir('/FREEPII_github/code/FREEPII/Cluster/')]\n",
    "exp_path = [i for i in exp_path if ('txt' in i)]\n",
    "print(*exp_path, sep='\\n')\n",
    "\n",
    "exp_cond = sorted(set([i.split('/')[-1].split('_')[0] for i in exp_path]))\n",
    "print(exp_cond)\n",
    "\n",
    "load_dir1 = '/FREEPII_github/input/' + exp_name\n",
    "dict_path = ['/'.join([load_dir1, i]) for i in os.listdir(load_dir1) if 'idx_dict' in i]\n",
    "dict_path = [i for i in dict_path if 'SEC2' in i]\n",
    "dict_path = [i for i in dict_path if (re.sub('.pickle', '', i.split('/')[-1].split('_')[-1]) in exp_cond)]\n",
    "print(*dict_path, sep='\\n')\n",
    "\n",
    "go_dir = '/FREEPII_github/GO-data'"
   ]
  },
  {
   "cell_type": "markdown",
   "id": "57e56076-5526-4c8b-9401-fe6161648187",
   "metadata": {
    "tags": []
   },
   "source": [
    "### Exp-name-idx_dictionary"
   ]
  },
  {
   "cell_type": "code",
   "execution_count": 2,
   "id": "d605454b-858f-4835-b885-cde34e935702",
   "metadata": {},
   "outputs": [],
   "source": [
    "name_idx_dict = []\n",
    "idx_name_dict = []\n",
    "dict_idx_list = []\n",
    "for cur_dict_path in dict_path:\n",
    "    with open(cur_dict_path, 'rb') as f:\n",
    "        temp = pickle.load(f)\n",
    "    temp_ = dict(zip(list(temp.values()) , list(temp.keys())))\n",
    "    name_idx_dict.append(temp)\n",
    "    idx_name_dict.append(temp_)\n",
    "    dict_idx_list.append(re.sub('.pickle', '', cur_dict_path.split('/')[-1].split('_')[-1]))\n",
    "\n",
    "print(len(name_idx_dict))\n",
    "print([len(i) for i in name_idx_dict])\n",
    "print('*'*50)\n",
    "\n",
    "print(len(idx_name_dict))\n",
    "print([len(i) for i in idx_name_dict])\n",
    "print('*'*50)\n",
    "\n",
    "print(dict_idx_list)"
   ]
  },
  {
   "cell_type": "markdown",
   "id": "7e7a6121-fd26-4971-a149-8d64ad7e5ce1",
   "metadata": {},
   "source": [
    "### Clusters"
   ]
  },
  {
   "cell_type": "code",
   "execution_count": 3,
   "id": "9397e98a-8c3a-4eea-b47e-8457935f4030",
   "metadata": {},
   "outputs": [],
   "source": [
    "idx_clusters = deepcopy(exp_cond)\n",
    "for l in range(len(exp_cond)):\n",
    "    with open(exp_path[l], 'r') as fh:\n",
    "        cur_idx_clusters = []\n",
    "        for line in fh:\n",
    "            line = line.strip()\n",
    "            cur_idx_clusters.append(line)\n",
    "    idx_clusters[l] = cur_idx_clusters\n",
    "print(len(idx_clusters))\n",
    "print([len(idx_clusters[i]) for i in range(len(idx_clusters))])\n",
    "print(*idx_clusters[0][:5], sep='\\n')"
   ]
  },
  {
   "cell_type": "markdown",
   "id": "f44b7a86-478b-4046-af8a-61b494fc3b05",
   "metadata": {},
   "source": [
    "### GO"
   ]
  },
  {
   "cell_type": "code",
   "execution_count": 5,
   "id": "372d9c36-5aa6-40b9-acfc-7267820d1f90",
   "metadata": {},
   "outputs": [],
   "source": [
    "go = get_godag(go_dir + '/go-basic.obo', optional_attrs={'relationship'})\n",
    "# go"
   ]
  },
  {
   "cell_type": "markdown",
   "id": "0c9601f9-110f-4587-a217-d5c568238ebc",
   "metadata": {},
   "source": [
    "### Association"
   ]
  },
  {
   "cell_type": "code",
   "execution_count": 6,
   "id": "c1e14b62-e874-4079-b0cb-d23efc125601",
   "metadata": {},
   "outputs": [],
   "source": [
    "assocs_symbol_BP = read_associations(go_dir + '/association_symbol_BP_Human.txt')\n",
    "assocs_symbol_MF = read_associations(go_dir + '/association_symbol_MF_Human.txt')\n",
    "assocs_symbol_CC = read_associations(go_dir + '/association_symbol_CC_Human.txt')"
   ]
  },
  {
   "cell_type": "code",
   "execution_count": 7,
   "id": "b8efe986-07c2-473b-81c1-cbba06f46c86",
   "metadata": {},
   "outputs": [],
   "source": [
    "assocs_synonym_BP = read_associations(go_dir + '/association_synonym_BP_Human.txt')\n",
    "assocs_synonym_MF = read_associations(go_dir + '/association_synonym_MF_Human.txt')\n",
    "assocs_synonym_CC = read_associations(go_dir + '/association_synonym_CC_Human.txt')"
   ]
  },
  {
   "cell_type": "code",
   "execution_count": null,
   "id": "d5722ea5-64fb-4bbd-bb5a-80125375409e",
   "metadata": {
    "tags": []
   },
   "outputs": [],
   "source": []
  },
  {
   "cell_type": "markdown",
   "id": "963230cd-177c-4a35-9b97-452125ceb51a",
   "metadata": {},
   "source": [
    "## Match idx in cluster to exp-name"
   ]
  },
  {
   "cell_type": "code",
   "execution_count": 8,
   "id": "4f446d70-842a-4106-bdbf-044c3cb62e6c",
   "metadata": {
    "jp-MarkdownHeadingCollapsed": true,
    "tags": []
   },
   "outputs": [],
   "source": [
    "name_clusters = deepcopy(idx_clusters)\n",
    "for l in range(len(idx_clusters)):\n",
    "    cur_dict = idx_name_dict[[i for i,v in enumerate(dict_idx_list) if exp_cond[l] in v][0]]\n",
    "    print(len(cur_dict))\n",
    "    cur_name_cluster = [[cur_dict[int(i)] for i in idx_clusters[l][j].split(' ')] for j in range(len(idx_clusters[l]))]\n",
    "    name_clusters[l] = cur_name_cluster\n",
    "print(len(name_clusters))\n",
    "print([len(name_clusters[i]) for i in range(len(name_clusters))])\n",
    "print(*name_clusters[0][:5], sep='\\n')"
   ]
  },
  {
   "cell_type": "code",
   "execution_count": null,
   "id": "5116b6a4-8ea3-42fb-9b06-eef818397519",
   "metadata": {},
   "outputs": [],
   "source": []
  },
  {
   "cell_type": "markdown",
   "id": "88d2be57-d668-4152-be9f-1c41d16128e0",
   "metadata": {},
   "source": [
    "## Calculate sementic similarity"
   ]
  },
  {
   "cell_type": "markdown",
   "id": "9a669a3c-6a83-46c7-bca3-75b0b1d63c92",
   "metadata": {
    "tags": []
   },
   "source": [
    "### Turn complex with go id set"
   ]
  },
  {
   "cell_type": "code",
   "execution_count": 9,
   "id": "3bd6e24c-ec86-417a-a9f6-b315eb7889bb",
   "metadata": {
    "tags": []
   },
   "outputs": [],
   "source": [
    "go_cluster_BP = [[[list(assocs_synonym_BP.get(i, {})) for i in j] for j in k] for k in name_clusters]\n",
    "go_cluster_MF = [[[list(assocs_synonym_MF.get(i, {})) for i in j] for j in k] for k in name_clusters]\n",
    "go_cluster_CC = [[[list(assocs_synonym_CC.get(i, {})) for i in j] for j in k] for k in name_clusters]\n",
    "print(len(go_cluster_BP), len(go_cluster_MF), len(go_cluster_CC))\n",
    "print([len(i) for i in go_cluster_BP], [len(i) for i in go_cluster_MF], [len(i) for i in go_cluster_CC])"
   ]
  },
  {
   "cell_type": "markdown",
   "id": "11908157-a92c-49b7-9d76-2c712bad51c6",
   "metadata": {},
   "source": [
    "### Filter complex protein without go-term"
   ]
  },
  {
   "cell_type": "code",
   "execution_count": 10,
   "id": "5a3c9504-1bbb-4dac-a236-e2a5e4a1fd57",
   "metadata": {},
   "outputs": [],
   "source": [
    "go_cluster_BP = [[[i for i in j if i!=[]] for j in k] for k in go_cluster_BP]\n",
    "go_cluster_MF = [[[i for i in j if i!=[]] for j in k] for k in go_cluster_MF]\n",
    "go_cluster_CC = [[[i for i in j if i!=[]] for j in k] for k in go_cluster_CC]\n",
    "print(len(go_cluster_BP), len(go_cluster_MF), len(go_cluster_CC))\n",
    "print([len(i) for i in go_cluster_BP], [len(i) for i in go_cluster_MF], [len(i) for i in go_cluster_CC])\n",
    "print('*'*50)\n",
    "print([sum([len(i)==0 for i in k]) for k in go_cluster_BP]) # all empty complex\n",
    "print([sum([len(i)==1 for i in k]) for k in go_cluster_BP]) # complex with single member\n",
    "print([sum([len(i)==2 for i in k]) for k in go_cluster_BP]) # edge\n",
    "print([sum([len(i) >2 for i in k]) for k in go_cluster_BP])\n",
    "print('*'*25)\n",
    "print([sum([len(i)==0 for i in k]) for k in go_cluster_MF]) # all empty complex\n",
    "print([sum([len(i)==1 for i in k]) for k in go_cluster_MF]) # complex with single member\n",
    "print([sum([len(i)==2 for i in k]) for k in go_cluster_MF]) # edge\n",
    "print([sum([len(i) >2 for i in k]) for k in go_cluster_MF])\n",
    "print('*'*25)\n",
    "print([sum([len(i)==0 for i in k]) for k in go_cluster_CC]) # all empty complex\n",
    "print([sum([len(i)==1 for i in k]) for k in go_cluster_CC]) # complex with single member\n",
    "print([sum([len(i)==2 for i in k]) for k in go_cluster_CC]) # edge\n",
    "print([sum([len(i) >2 for i in k]) for k in go_cluster_CC])"
   ]
  },
  {
   "cell_type": "markdown",
   "id": "c719e6a5-7a3d-432a-9742-e103ac1bf9e8",
   "metadata": {},
   "source": [
    "### Calculate similarity of pair-wise go id in cluster"
   ]
  },
  {
   "cell_type": "code",
   "execution_count": 12,
   "id": "81336312-5043-4474-9573-1c4d63aae9f6",
   "metadata": {
    "tags": []
   },
   "outputs": [],
   "source": [
    "termcounts_BP = TermCounts(go, assocs_synonym_BP)\n",
    "termcounts_MF = TermCounts(go, assocs_synonym_MF)\n",
    "termcounts_CC = TermCounts(go, assocs_synonym_CC)"
   ]
  },
  {
   "cell_type": "code",
   "execution_count": 11,
   "id": "f13e8035-42bc-48f8-91f9-b65f938d72a6",
   "metadata": {
    "tags": []
   },
   "outputs": [],
   "source": [
    "GOGO_com_score_BP = deepcopy(go_cluster_BP)\n",
    "GOGO_com_score_MF = deepcopy(go_cluster_MF)\n",
    "GOGO_com_score_CC = deepcopy(go_cluster_CC)\n",
    "\n",
    "for l in range(len(go_cluster_BP)):\n",
    "    for idx in range(len(go_cluster_BP[l])):\n",
    "        if len(go_cluster_BP[l][idx]) <2:\n",
    "            cur_score_BP = 0\n",
    "        elif len(go_cluster_BP[l][idx])==2:\n",
    "            cur_score_BP = Similarity_of_Set_of_GOTerms(go_cluster_BP[l][idx][0], go_cluster_BP[l][idx][1], go, 'GOGO', silent=True)\n",
    "        elif len(go_cluster_BP[l][idx]) >2:\n",
    "            cur_BP_pair = list(combinations(go_cluster_BP[l][idx], 2))\n",
    "            cur_score_BP = np.mean([Similarity_of_Set_of_GOTerms(i[0], i[1], go, 'GOGO', silent=True) for i in cur_BP_pair])\n",
    "\n",
    "        if len(go_cluster_MF[l][idx]) <2:\n",
    "            cur_score_MF = 0\n",
    "        elif len(go_cluster_MF[l][idx])==2:\n",
    "            cur_score_MF = Similarity_of_Set_of_GOTerms(go_cluster_MF[l][idx][0], go_cluster_MF[l][idx][1], go, 'GOGO', silent=True)\n",
    "        elif len(go_cluster_MF[l][idx]) >2:\n",
    "            cur_MF_pair = list(combinations(go_cluster_MF[l][idx], 2))\n",
    "            cur_score_MF = np.mean([Similarity_of_Set_of_GOTerms(i[0], i[1], go, 'GOGO', silent=True) for i in cur_MF_pair])\n",
    "\n",
    "        if len(go_cluster_CC[l][idx]) <2:\n",
    "            cur_score_CC = 0\n",
    "        elif len(go_cluster_CC[l][idx])==2:\n",
    "            cur_score_CC = Similarity_of_Set_of_GOTerms(go_cluster_CC[l][idx][0], go_cluster_CC[l][idx][1], go, 'GOGO', silent=True)\n",
    "        elif len(go_cluster_CC[l][idx]) >2:\n",
    "            cur_CC_pair = list(combinations(go_cluster_CC[l][idx], 2))\n",
    "            cur_score_CC = np.mean([Similarity_of_Set_of_GOTerms(i[0], i[1], go, 'GOGO', silent=True) for i in cur_CC_pair])\n",
    "\n",
    "        GOGO_com_score_BP[l][idx] = cur_score_BP\n",
    "        GOGO_com_score_MF[l][idx] = cur_score_MF\n",
    "        GOGO_com_score_CC[l][idx] = cur_score_CC\n",
    "\n",
    "        if idx % 5 ==0:\n",
    "            print(l, np.round(idx/len(go_cluster_BP[l]), 3))"
   ]
  },
  {
   "cell_type": "code",
   "execution_count": null,
   "id": "2d5cddb5-28b2-4cba-93e7-b925913dec51",
   "metadata": {},
   "outputs": [],
   "source": []
  },
  {
   "cell_type": "markdown",
   "id": "2e9184c1-44fd-4c33-b438-92eb05cea0bf",
   "metadata": {},
   "source": [
    "## Plot"
   ]
  },
  {
   "cell_type": "code",
   "execution_count": 12,
   "id": "0eaaaa06-53f9-40fe-bd3d-e0ad82968481",
   "metadata": {},
   "outputs": [],
   "source": [
    "char = 'Sementic similarity (Complex, GOGO, BP)'\n",
    "for i in range(len(GOGO_com_score_BP)):\n",
    "    if (i==0):\n",
    "        df = pd.Series(GOGO_com_score_BP[i], name = exp_cond[i]).to_frame()\n",
    "    else:\n",
    "        df = df.join(pd.Series(GOGO_com_score_BP[i], name = exp_cond[i]))\n",
    "fig, ax = plt.subplots(figsize=(14, 7))\n",
    "sns.boxplot(data=df, width = 0.5, ax=ax).set(title=char)\n",
    "plt.show()"
   ]
  },
  {
   "cell_type": "code",
   "execution_count": 13,
   "id": "a2cceb7f-f240-4051-bc93-ddf910d1cb85",
   "metadata": {},
   "outputs": [],
   "source": [
    "char = 'Sementic similarity (Complex, GOGO, MF)'\n",
    "for i in range(len(GOGO_com_score_MF)):\n",
    "    if (i==0):\n",
    "        df = pd.Series(GOGO_com_score_MF[i], name = exp_cond[i]).to_frame()\n",
    "    else:\n",
    "        df = df.join(pd.Series(GOGO_com_score_MF[i], name = exp_cond[i]))\n",
    "fig, ax = plt.subplots(figsize=(14, 7))\n",
    "sns.boxplot(data=df, width = 0.5, ax=ax).set(title=char)\n",
    "plt.show()"
   ]
  },
  {
   "cell_type": "code",
   "execution_count": 14,
   "id": "081044ee-0eb9-4004-bc49-deb2e90af79a",
   "metadata": {},
   "outputs": [],
   "source": [
    "char = 'Sementic similarity (Complex, GOGO, CC)'\n",
    "for i in range(len(GOGO_com_score_CC)):\n",
    "    if (i==0):\n",
    "        df = pd.Series(GOGO_com_score_CC[i], name = exp_cond[i]).to_frame()\n",
    "    else:\n",
    "        df = df.join(pd.Series(GOGO_com_score_CC[i], name = exp_cond[i]))\n",
    "fig, ax = plt.subplots(figsize=(14, 7))\n",
    "sns.boxplot(data=df, width = 0.5, ax=ax).set(title=char)\n",
    "plt.show()"
   ]
  },
  {
   "cell_type": "code",
   "execution_count": null,
   "id": "fad37401-ca1c-4444-95fe-2cdc586ea472",
   "metadata": {},
   "outputs": [],
   "source": []
  },
  {
   "cell_type": "markdown",
   "id": "64d66a1c-2fb5-420d-bf55-2b32f937e592",
   "metadata": {},
   "source": [
    "## Save scores"
   ]
  },
  {
   "cell_type": "code",
   "execution_count": 17,
   "id": "6680118c-f24a-4cfb-b4b9-5a9fe84e3c80",
   "metadata": {},
   "outputs": [],
   "source": [
    "out_path = './Go_score'\n",
    "if not os.path.exists(out_path):\n",
    "      os.makedirs(out_path)"
   ]
  },
  {
   "cell_type": "code",
   "execution_count": 18,
   "id": "46751bb8-02cd-45e3-9d9d-c05653e7c45d",
   "metadata": {},
   "outputs": [],
   "source": [
    "for l in range(len(exp_cond)):\n",
    "    np.save('/'.join(['./Go_score', '_'.join([exp_cond[l], 'GOGO_com_score_BP'])]), GOGO_com_score_BP[l])\n",
    "    np.save('/'.join(['./Go_score', '_'.join([exp_cond[l], 'GOGO_com_score_MF'])]), GOGO_com_score_MF[l])\n",
    "    np.save('/'.join(['./Go_score', '_'.join([exp_cond[l], 'GOGO_com_score_CC'])]), GOGO_com_score_CC[l])"
   ]
  },
  {
   "cell_type": "code",
   "execution_count": null,
   "id": "9cf1a839-5ce5-4d81-a1c8-1b7e1f9024c0",
   "metadata": {},
   "outputs": [],
   "source": []
  },
  {
   "cell_type": "code",
   "execution_count": null,
   "id": "00daa64e-7ed9-443a-8be1-60d28ad0de7e",
   "metadata": {},
   "outputs": [],
   "source": []
  },
  {
   "cell_type": "code",
   "execution_count": null,
   "id": "83dcbc54-9f9d-4c5f-a9bd-b33983088ef9",
   "metadata": {},
   "outputs": [],
   "source": []
  }
 ],
 "metadata": {
  "kernelspec": {
   "display_name": "Python 3 (ipykernel)",
   "language": "python",
   "name": "python3"
  },
  "language_info": {
   "codemirror_mode": {
    "name": "ipython",
    "version": 3
   },
   "file_extension": ".py",
   "mimetype": "text/x-python",
   "name": "python",
   "nbconvert_exporter": "python",
   "pygments_lexer": "ipython3",
   "version": "3.9.7"
  }
 },
 "nbformat": 4,
 "nbformat_minor": 5
}
