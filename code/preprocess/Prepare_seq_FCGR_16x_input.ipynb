{
 "cells": [
  {
   "cell_type": "code",
   "execution_count": 1,
   "id": "6ee7afcd-1e4d-4b16-90ee-b8aecff9e8bb",
   "metadata": {},
   "outputs": [],
   "source": [
    "import numpy as np\n",
    "import pandas as pd\n",
    "import os\n",
    "import re\n",
    "import pyreadr\n",
    "import pickle"
   ]
  },
  {
   "cell_type": "code",
   "execution_count": null,
   "id": "a71e0fc5-5386-4b1e-90d1-24ee80330f95",
   "metadata": {},
   "outputs": [],
   "source": []
  },
  {
   "cell_type": "markdown",
   "id": "138c770f-2c84-4bf3-8aa0-361030d14619",
   "metadata": {},
   "source": [
    "## Settings and read data"
   ]
  },
  {
   "cell_type": "code",
   "execution_count": 1,
   "id": "d877667e-e40e-4895-92e0-78e2856ea3e4",
   "metadata": {},
   "outputs": [],
   "source": [
    "#### Setting\n",
    "epf_dir = '/FREEPII_github/EPF-data/'\n",
    "epf_dir = [epf_dir + i for i in os.listdir(epf_dir)]\n",
    "epf_path = ['/'.join([i, j, j +'.rds']) for i in epf_dir for j in os.listdir(i)]\n",
    "print(*epf_path, sep='\\n')\n",
    "print('*'*50)\n",
    "\n",
    "split_dir = '/FREEPII_github/Split-data/'\n",
    "split_dir = [split_dir + i for i in os.listdir(split_dir)]\n",
    "split_path = ['/'.join([i, j]) for i in split_dir for j in os.listdir(i) if ('ref' in j)|('heldout' in j)|('exp' in j)]\n",
    "print(*split_path, sep='\\n')\n",
    "print('*'*50)\n",
    "\n",
    "seq_path = '/FREEPII_github/FCGR-data/uniprot_seq_Human_FCGR_16x.rds'\n",
    "name_path = '/FREEPII_github/UniProt-data/uniprot_gene_Human.rds'\n",
    "print(seq_path)\n",
    "print(name_path)\n",
    "\n",
    "exp_cond = [re.sub('.rds', '', i.split('/')[-1].split('_')[-1]) for i in epf_path]\n",
    "print(exp_cond)"
   ]
  },
  {
   "cell_type": "markdown",
   "id": "1cb40e50-0cf8-4259-8b24-53eea0549a6b",
   "metadata": {},
   "source": [
    "### Read sequence and name information"
   ]
  },
  {
   "cell_type": "code",
   "execution_count": 1,
   "id": "08eefcfa-5454-4abe-acdf-f98162eb7fc6",
   "metadata": {},
   "outputs": [],
   "source": [
    "seq_df = list(pyreadr.read_r(seq_path).values())[0]\n",
    "name_df = list(pyreadr.read_r(name_path).values())[0]\n",
    "\n",
    "print(seq_df.shape)\n",
    "print(seq_df.head())\n",
    "print('*'*50)\n",
    "\n",
    "print(name_df.shape)\n",
    "print(name_df.head())\n",
    "print('*'*50)\n",
    "\n",
    "match_seq_num = []\n",
    "for idx in range(name_df.select_dtypes(include='object').shape[1]):\n",
    "    match_seq_num.append(len( set(name_df.iloc[:, idx].values)&set(seq_df.columns.values) ))\n",
    "print(list(zip(name_df.select_dtypes(include='object').columns.values.tolist(), match_seq_num)))\n",
    "\n",
    "best_match_seq_name = name_df.select_dtypes(include='object').columns.values[np.argmax(match_seq_num)]\n",
    "print('best match seq name: ', best_match_seq_name)"
   ]
  },
  {
   "cell_type": "markdown",
   "id": "d25427ce-ec96-4588-b93c-cac501797797",
   "metadata": {},
   "source": [
    "### Read EPF, select and transform sequence"
   ]
  },
  {
   "cell_type": "code",
   "execution_count": 2,
   "id": "ab03d198-1c0e-47f2-9458-17bcf6fadae1",
   "metadata": {
    "tags": []
   },
   "outputs": [],
   "source": [
    "seq_in_exp_idx_list = []\n",
    "seq_off_exp_idx_list = []\n",
    "seq = []\n",
    "\n",
    "for cur_exp_cond in exp_cond:\n",
    "    print('current data: ', cur_exp_cond)\n",
    "    \n",
    "    temp = list(pyreadr.read_r([i for i in epf_path if cur_exp_cond in i][0]).values())[0]\n",
    "    name = temp.select_dtypes(include='object').values\n",
    "    \n",
    "    if name.shape[1]==0:\n",
    "        name = temp.index.values\n",
    "    \n",
    "    cur_dict = dict(zip(name, np.arange(temp.shape[0])))\n",
    "    \n",
    "    match_epf_num = []\n",
    "    for name_idx in range(name_df.select_dtypes(include='object').shape[1]):\n",
    "        match_epf_num.append(len( set(name_df.iloc[:, name_idx].values)&set(name) ))\n",
    "    print(list(zip(name_df.select_dtypes(include='object').columns.values.tolist(), match_epf_num)))\n",
    "    \n",
    "    best_match_epf_name = name_df.select_dtypes(include='object').columns.values[np.argmax(match_epf_num)]\n",
    "    print('best match epf_ name: ', best_match_epf_name)\n",
    "    \n",
    "    val = None\n",
    "    cur_seq_in_exp_idx_list = []\n",
    "    cur_seq_off_exp_idx_list = []\n",
    "    \n",
    "    for cur_name in name:\n",
    "        cur_uname_list = name_df.loc[name_df[best_match_epf_name] == cur_name][best_match_seq_name].values.tolist()\n",
    "        if len(cur_uname_list) > 0:\n",
    "            if len(set(cur_uname_list)&set(seq_df.columns.values)) > 0:\n",
    "                cur_seq_in_exp_idx_list.append(cur_dict[cur_name])\n",
    "                cur_seq = np.nan_to_num(seq_df[cur_uname_list].values / seq_df[cur_uname_list].values.sum(0)).mean(1).reshape(1, -1)\n",
    "                if val is None:\n",
    "                    val = cur_seq\n",
    "                else:\n",
    "                    val = np.concatenate([val, cur_seq], 0)\n",
    "            else:\n",
    "                cur_seq_off_exp_idx_list.append(cur_dict[cur_name])\n",
    "        else:\n",
    "            cur_seq_off_exp_idx_list.append(cur_dict[cur_name])\n",
    "        \n",
    "        if (np.where(name==cur_name)[0][0] + 1) % 500 ==0:\n",
    "            print('seq record: ', len(cur_seq_in_exp_idx_list), '/', val.shape[0], ' non seq record', len(cur_seq_off_exp_idx_list), ' total: ', temp.shape[0])\n",
    "    \n",
    "    print('seq raw size: ', val.shape)\n",
    "    seq.append(val)\n",
    "    seq_in_exp_idx_list.append(cur_seq_in_exp_idx_list)\n",
    "    seq_off_exp_idx_list.append(cur_seq_off_exp_idx_list)\n",
    "    print('*'*50)\n",
    "\n",
    "del cur_exp_cond\n",
    "del temp\n",
    "del name\n",
    "del cur_dict\n",
    "del match_epf_num\n",
    "del best_match_epf_name\n",
    "del cur_name\n",
    "del cur_uname_list\n",
    "del cur_seq_in_exp_idx_list\n",
    "del cur_seq_off_exp_idx_list\n",
    "del cur_seq\n",
    "del val"
   ]
  },
  {
   "cell_type": "code",
   "execution_count": 3,
   "id": "b739ce63-8679-4309-b3e7-3d5b3894e4ff",
   "metadata": {},
   "outputs": [],
   "source": [
    "print(len(seq), len(seq_in_exp_idx_list), len(seq_off_exp_idx_list))\n",
    "print([j.shape for j in seq])\n",
    "print([len(i) for i in seq_in_exp_idx_list])\n",
    "print([len(i) for i in seq_off_exp_idx_list])\n",
    "print([[len(set(seq_in_exp_idx_list[i])&set(seq_off_exp_idx_list[i])), len(set(seq_in_exp_idx_list[i] + seq_off_exp_idx_list[i]))] for i in range(len(seq_in_exp_idx_list))])"
   ]
  },
  {
   "cell_type": "code",
   "execution_count": null,
   "id": "97dea0b9-df07-482e-b357-ad2f483b62a1",
   "metadata": {},
   "outputs": [],
   "source": []
  },
  {
   "cell_type": "markdown",
   "id": "9051ad22-5b09-4063-9785-f5a60f3acecb",
   "metadata": {},
   "source": [
    "## Save data"
   ]
  },
  {
   "cell_type": "code",
   "execution_count": 20,
   "id": "253bea46-a2b4-4542-b1f4-d32d5732b6e8",
   "metadata": {},
   "outputs": [],
   "source": [
    "out_path = '/FREEPII_github/input/'\n",
    "if not os.path.exists(out_path):\n",
    "    os.makedirs(out_path)"
   ]
  },
  {
   "cell_type": "code",
   "execution_count": 4,
   "id": "2b03c10e-0c3c-4388-b012-f5203ed50b0a",
   "metadata": {},
   "outputs": [],
   "source": [
    "for cur_exp_cond in exp_cond:\n",
    "    cur_exp_name = [i.split('/')[-3] for i in epf_path if cur_exp_cond in i][0]\n",
    "    print(cur_exp_name, cur_exp_cond)\n",
    "    \n",
    "    out_path_ = out_path + cur_exp_name\n",
    "    if not os.path.exists(out_path_):\n",
    "        os.makedirs(out_path_)\n",
    "    \n",
    "    cur_idx = [i for i,j in enumerate(exp_cond) if j==cur_exp_cond][0]\n",
    "    \n",
    "    np.savez('/'.join([out_path_, 'feature_seq_FCGR_16x_' + cur_exp_cond]), seq[cur_idx])\n",
    "    np.savez('/'.join([out_path_, 'seq_in_exp_idx_' + cur_exp_cond]),    seq_in_exp_idx_list[cur_idx])\n",
    "    np.savez('/'.join([out_path_, 'seq_off_exp_idx_' + cur_exp_cond]),   seq_off_exp_idx_list[cur_idx])"
   ]
  },
  {
   "cell_type": "code",
   "execution_count": null,
   "id": "0fe4fd7f-1cb6-4f9c-813d-1abe171edeb2",
   "metadata": {},
   "outputs": [],
   "source": []
  },
  {
   "cell_type": "code",
   "execution_count": null,
   "id": "f69414df-cf07-4ef5-8729-0bdfbcdceed2",
   "metadata": {},
   "outputs": [],
   "source": []
  },
  {
   "cell_type": "code",
   "execution_count": null,
   "id": "71422fb5-5003-45ce-b52e-96aef14ac04f",
   "metadata": {},
   "outputs": [],
   "source": []
  },
  {
   "cell_type": "code",
   "execution_count": null,
   "id": "b39578a9-f309-4508-b2f4-1a077f3ebddc",
   "metadata": {},
   "outputs": [],
   "source": []
  }
 ],
 "metadata": {
  "kernelspec": {
   "display_name": "Python 3 (ipykernel)",
   "language": "python",
   "name": "python3"
  },
  "language_info": {
   "codemirror_mode": {
    "name": "ipython",
    "version": 3
   },
   "file_extension": ".py",
   "mimetype": "text/x-python",
   "name": "python",
   "nbconvert_exporter": "python",
   "pygments_lexer": "ipython3",
   "version": "3.9.7"
  }
 },
 "nbformat": 4,
 "nbformat_minor": 5
}
