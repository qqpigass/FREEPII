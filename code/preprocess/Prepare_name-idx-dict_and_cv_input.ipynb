{
 "cells": [
  {
   "cell_type": "code",
   "execution_count": 1,
   "id": "6ee7afcd-1e4d-4b16-90ee-b8aecff9e8bb",
   "metadata": {},
   "outputs": [],
   "source": [
    "import numpy as np\n",
    "import pandas as pd\n",
    "import os\n",
    "import re\n",
    "import pyreadr\n",
    "import pickle"
   ]
  },
  {
   "cell_type": "code",
   "execution_count": null,
   "id": "a71e0fc5-5386-4b1e-90d1-24ee80330f95",
   "metadata": {},
   "outputs": [],
   "source": []
  },
  {
   "cell_type": "markdown",
   "id": "138c770f-2c84-4bf3-8aa0-361030d14619",
   "metadata": {},
   "source": [
    "## Settings and read data"
   ]
  },
  {
   "cell_type": "code",
   "execution_count": 1,
   "id": "8183ea1f-44ee-48ef-a774-7bfacde18eff",
   "metadata": {},
   "outputs": [],
   "source": [
    "#### Setting\n",
    "epf_dir = '/FREEPII_github/EPF-data/'\n",
    "epf_dir = [epf_dir + i for i in os.listdir(epf_dir)]\n",
    "epf_path = ['/'.join([i, j, j +'.rds']) for i in epf_dir for j in os.listdir(i)]\n",
    "print(*epf_path, sep='\\n')\n",
    "print('*'*50)\n",
    "\n",
    "split_dir = '/FREEPII_github/Split-data/'\n",
    "split_dir = [split_dir + i for i in os.listdir(split_dir)]\n",
    "split_path = ['/'.join([i, j]) for i in split_dir for j in os.listdir(i) if ('ref' in j)|('heldout' in j)|('exp' in j)]\n",
    "print(*split_path, sep='\\n')\n",
    "print('*'*50)\n",
    "\n",
    "cv_path = ['/'.join([i, j]) for i in split_dir for j in os.listdir(i) if ('csv' in j)]\n",
    "print(*cv_path, sep='\\n')\n",
    "print('*'*50)\n",
    "\n",
    "exp_cond = [re.sub('.rds', '', i.split('/')[-1].split('_')[-1]) for i in epf_path]\n",
    "print(exp_cond)"
   ]
  },
  {
   "cell_type": "markdown",
   "id": "d25427ce-ec96-4588-b93c-cac501797797",
   "metadata": {},
   "source": [
    "### Read and transform EPF"
   ]
  },
  {
   "cell_type": "code",
   "execution_count": 1,
   "id": "588656d1-8481-41a1-a337-53c9c8cc7cd2",
   "metadata": {
    "tags": []
   },
   "outputs": [],
   "source": [
    "epf_name_idx_dict = []\n",
    "for cur_exp_cond in exp_cond:\n",
    "    print('current data: ', cur_exp_cond)\n",
    "    \n",
    "    temp = list(pyreadr.read_r([i for i in epf_path if cur_exp_cond in i][0]).values())[0]\n",
    "    name = temp.select_dtypes(include='object').values\n",
    "    val = temp.select_dtypes(include='number').values\n",
    "    \n",
    "    if name.shape[1]==0:\n",
    "        name = temp.index.values\n",
    "    epf_name_idx_dict.append( dict(zip(name, np.arange(temp.shape[0]))) )\n",
    "    print('*'*50)\n",
    "\n",
    "del temp\n",
    "del name\n",
    "del val\n",
    "del cur_exp_cond\n",
    "\n",
    "print(len(epf_name_idx_dict))\n",
    "print([len(i) for i in epf_name_idx_dict])"
   ]
  },
  {
   "cell_type": "markdown",
   "id": "14bb773a-39ff-47e7-806e-e3f60d436bc1",
   "metadata": {},
   "source": [
    "### Read splits and create mask in each cv fold"
   ]
  },
  {
   "cell_type": "code",
   "execution_count": 2,
   "id": "509a6611-c479-484e-9409-75df41f72ca7",
   "metadata": {},
   "outputs": [],
   "source": [
    "ref_edge = []\n",
    "heldout_edge = []\n",
    "delfold_edge = []\n",
    "exp_edge = []\n",
    "\n",
    "ref_label = []\n",
    "heldout_label = []\n",
    "delfold_label = []\n",
    "\n",
    "train_mask = []\n",
    "test_mask = []\n",
    "\n",
    "for cur_exp_cond in exp_cond:\n",
    "    print('current data: ', cur_exp_cond)\n",
    "    cur_split_path = [i for i in split_path if cur_exp_cond in i]\n",
    "    cur_dict = [epf_name_idx_dict[i] for i, j in enumerate(exp_cond) if j==cur_exp_cond][0]\n",
    "    \n",
    "    for split_idx in range(len(cur_split_path)):\n",
    "        temp = list(pyreadr.read_r(cur_split_path[split_idx]).values())[0].reset_index(drop=True)\n",
    "        \n",
    "        if len(set(temp['Type'])) > 1:\n",
    "            for type_ in set(temp['Type']):\n",
    "                temp_ = temp.loc[temp['Type'] == type_].loc[:, temp.columns != 'Type']\n",
    "\n",
    "                print('current split type: ', type_)\n",
    "                print('TP number: ', temp_.loc[temp_['Label'] == 1].shape[0], '  TN number: ', temp_.loc[temp_['Label'] == 0].shape[0])\n",
    "\n",
    "                if type_ == 'Held_out':\n",
    "                    heldout_edge.append( np.array(list(zip([cur_dict[j] for j in temp_['Gene_name_A'].values], [cur_dict[j] for j in temp_['Gene_name_B'].values]))) )\n",
    "                    heldout_label.append( temp_['Label'].values )\n",
    "                elif type_ == 'Del_fold':\n",
    "                    delfold_edge.append( np.array(list(zip([cur_dict[j] for j in temp_['Gene_name_A'].values], [cur_dict[j] for j in temp_['Gene_name_B'].values]))) )\n",
    "                    delfold_label.append( temp_['Label'].values )\n",
    "        else:\n",
    "            if list(set(temp['Type']))[0]=='Exp':\n",
    "                print('current split type: Exp')\n",
    "                exp_edge.append( np.array(list(zip([cur_dict[j] for j in temp['Gene_name_A'].values], [cur_dict[j] for j in temp['Gene_name_B'].values]))) )\n",
    "            \n",
    "            elif list(set(temp['Type']))[0]=='Ref':\n",
    "                print('current split type: Ref')\n",
    "                print('TP number: ', temp.loc[temp['Label'] == 1].shape[0], '  TN number: ', temp.loc[temp['Label'] == 1].shape[0])\n",
    "                \n",
    "                ref_edge.append( np.array(list(zip([cur_dict[j] for j in temp['Gene_name_A'].values], [cur_dict[j] for j in temp['Gene_name_B'].values]))) )\n",
    "                ref_label.append( temp['Label'].values )\n",
    "                \n",
    "                temp_ = pd.read_csv([cv_path[i] for i,j in enumerate(cv_path) if cur_exp_cond in j][0])\n",
    "                print('current cv: ', [cv_path[i] for i,j in enumerate(cv_path) if cur_exp_cond in j][0])\n",
    "                \n",
    "                train_mask.append([])\n",
    "                test_mask.append([])\n",
    "                for fold in set(temp_['CV_fold']):\n",
    "                    print('current fold: ', fold)\n",
    "                    temp_1 = temp_.loc[(temp_['CV_fold']==fold)&(temp_['Type']=='Train')]\n",
    "                    temp_2 = temp_.loc[(temp_['CV_fold']==fold)&(temp_['Type']=='Test')]\n",
    "                    print('Train TP number in this fold: ', temp_1.loc[temp_1['Label']==1].shape[0], '  Train TN number in this fold: ', temp_1.loc[temp_1['Label']==0].shape[0])\n",
    "                    print('Test TP number in this fold: ', temp_2.loc[temp_2['Label']==1].shape[0], '  Test TN number in this fold: ', temp_2.loc[temp_2['Label']==0].shape[0])\n",
    "\n",
    "                    temp1 = pd.merge(temp.loc[: ,['Gene_name_A', 'Gene_name_B']], temp_1,  how='left', on=['Gene_name_A', 'Gene_name_B'])\n",
    "                    temp2 = pd.merge(temp.loc[: ,['Gene_name_A', 'Gene_name_B']], temp_2,  how='left', on=['Gene_name_A', 'Gene_name_B'])\n",
    "                    train_mask[-1].append( ~np.isnan(temp1.loc[:,['Label']].values.reshape(-1)) )\n",
    "                    test_mask[-1].append( ~np.isnan(temp2.loc[:,['Label']].values.reshape(-1)) )\n",
    "        print('*'*50)\n",
    "\n",
    "del temp\n",
    "del temp_\n",
    "del temp_1\n",
    "del temp_2\n",
    "del cur_dict\n",
    "del cur_exp_cond\n",
    "del cur_split_path\n",
    "del split_idx"
   ]
  },
  {
   "cell_type": "code",
   "execution_count": 3,
   "id": "31a6940d-b0b3-4c48-b4a6-e4e748ed65a2",
   "metadata": {},
   "outputs": [],
   "source": [
    "print(len(ref_edge), len(heldout_edge), len(delfold_edge), len(exp_edge))\n",
    "print(len(ref_label), len(heldout_label), len(delfold_label))\n",
    "print([i.shape for i in ref_edge], [i.shape for i in ref_label])\n",
    "print([i.shape for i in heldout_edge], [i.shape for i in heldout_label])\n",
    "print([i.shape for i in delfold_edge], [i.shape for i in delfold_label])\n",
    "print('*'*50)\n",
    "\n",
    "print(len(train_mask), len(test_mask))\n",
    "print([len(i) for i in train_mask], [len(i) for i in test_mask])\n",
    "print(*[[i.sum() for i in train_mask[j]] for j in range(len(train_mask))], sep='\\n')\n",
    "print(*[[i.sum() for i in test_mask[j]] for j in range(len(test_mask))], sep='\\n')"
   ]
  },
  {
   "cell_type": "code",
   "execution_count": null,
   "id": "93be4407-000e-40b7-aec9-f4e361eac882",
   "metadata": {},
   "outputs": [],
   "source": []
  },
  {
   "cell_type": "markdown",
   "id": "9051ad22-5b09-4063-9785-f5a60f3acecb",
   "metadata": {},
   "source": [
    "## Save data"
   ]
  },
  {
   "cell_type": "code",
   "execution_count": 127,
   "id": "08da6c25-5fd7-4a91-9cd6-6020c4c98b61",
   "metadata": {},
   "outputs": [],
   "source": [
    "out_path = '/FREEPII_github/input/'\n",
    "if not os.path.exists(out_path):\n",
    "    os.makedirs(out_path)"
   ]
  },
  {
   "cell_type": "code",
   "execution_count": 4,
   "id": "c4d0675d-340d-45df-a582-85c7bd8e66be",
   "metadata": {},
   "outputs": [],
   "source": [
    "for cur_exp_cond in exp_cond:\n",
    "    cur_exp_name = [i.split('/')[-3] for i in epf_path if cur_exp_cond in i][0]\n",
    "    print(cur_exp_name, cur_exp_cond)\n",
    "    \n",
    "    out_path_ = out_path + cur_exp_name\n",
    "    if not os.path.exists(out_path_):\n",
    "        os.makedirs(out_path_)\n",
    "    \n",
    "    cur_idx = [i for i,j in enumerate(exp_cond) if j==cur_exp_cond][0]\n",
    "    \n",
    "    np.savez('/'.join([out_path_, 'ref_edge_' + cur_exp_cond]),      ref_edge[cur_idx])\n",
    "    np.savez('/'.join([out_path_, 'heldout_edge_' + cur_exp_cond]),  heldout_edge[cur_idx])\n",
    "    np.savez('/'.join([out_path_, 'delfold_edge_' + cur_exp_cond]),  delfold_edge[cur_idx])\n",
    "    np.savez('/'.join([out_path_, 'exp_edge_' + cur_exp_cond]),      exp_edge[cur_idx])\n",
    "    \n",
    "    np.savez('/'.join([out_path_, 'ref_label_' + cur_exp_cond]),     ref_label[cur_idx])\n",
    "    np.savez('/'.join([out_path_, 'heldout_label_' + cur_exp_cond]), heldout_label[cur_idx])\n",
    "    np.savez('/'.join([out_path_, 'delfold_label_' + cur_exp_cond]), delfold_label[cur_idx])\n",
    "    \n",
    "    np.savez('/'.join([out_path_, 'train_mask_' + cur_exp_cond]),    train_mask[cur_idx])\n",
    "    np.savez('/'.join([out_path_, 'test_mask_' + cur_exp_cond]),     test_mask[cur_idx])\n",
    "    \n",
    "    with open('/'.join([out_path_, 'name_idx_dict_' + cur_exp_cond + '.pickle']), 'wb') as f:\n",
    "        pickle.dump(epf_name_idx_dict[cur_idx], f, pickle.HIGHEST_PROTOCOL)"
   ]
  },
  {
   "cell_type": "code",
   "execution_count": null,
   "id": "0fe4fd7f-1cb6-4f9c-813d-1abe171edeb2",
   "metadata": {},
   "outputs": [],
   "source": []
  },
  {
   "cell_type": "code",
   "execution_count": null,
   "id": "71422fb5-5003-45ce-b52e-96aef14ac04f",
   "metadata": {},
   "outputs": [],
   "source": []
  },
  {
   "cell_type": "code",
   "execution_count": null,
   "id": "b39578a9-f309-4508-b2f4-1a077f3ebddc",
   "metadata": {},
   "outputs": [],
   "source": []
  }
 ],
 "metadata": {
  "kernelspec": {
   "display_name": "Python 3 (ipykernel)",
   "language": "python",
   "name": "python3"
  },
  "language_info": {
   "codemirror_mode": {
    "name": "ipython",
    "version": 3
   },
   "file_extension": ".py",
   "mimetype": "text/x-python",
   "name": "python",
   "nbconvert_exporter": "python",
   "pygments_lexer": "ipython3",
   "version": "3.9.7"
  }
 },
 "nbformat": 4,
 "nbformat_minor": 5
}
